<!DOCTYPE html>
<html lang="en">
<head>
  <meta charset="UTF-8" />
  <meta name="viewport" content="width=device-width, initial-scale=1.0" />
  <title>Scanista Prompt Pro</title>
  <script src="https://gumroad.com/js/gumroad.js"></script>
  <style>
    body { font-family: 'Segoe UI', sans-serif; margin: 0; padding: 0; background: #fff; color: #000; }
    .container { max-width: 800px; margin: auto; padding: 2rem; }
    .center { text-align: center; }
    .btn { display: inline-block; padding: 0.8rem 1.5rem; background: #000; color: #fff; text-decoration: none; border-radius: 8px; margin-top: 1rem; font-weight: bold; }
    .section { margin: 2.5rem 0; }
    .testimonial { background: #f9f9f9; padding: 1rem; border-left: 4px solid #ffc107; margin: 1rem 0; font-style: italic; }
    footer { text-align: center; margin-top: 3rem; padding: 1rem; font-size: 0.9rem; color: #666; }
    iframe { width: 100%; border: none; min-height: 500px; }
  </style>
</head>
<body>

  <div class="container">
    <h1 class="center">🚀 Unlock Your Free AI Assistant Demo</h1>
    <p class="center">Try <strong>PromptFix Mode</strong> for free. Full access for <strong>$29/month</strong>.</p>

    <!-- Embedded Google Form -->
    <div class="section">
      <iframe
        src="https://docs.google.com/forms/d/e/1FAIpQLSf0YJVSxhaVlqUmMTKRZ7u6XYlxZ51fYhVtoMIQoYYFVEGUaA/viewform?embedded=true"
        loading="lazy"
      >Loading…</iframe>
    </div>

    <!-- Payment Button -->
    <div class="section center">
      <h2>🔓 Ready to Unlock Full Access?</h2>
      <a class="gumroad-button btn" href="https://gumroad.com/l/scanistapromptpro" target="_blank">
        💳 Get Full Access – $29
      </a>
    </div>

    <!-- Features -->
    <div class="section center">
      <h2>💡 Why Use Scanista Prompt Pro?</h2>
      <ul style="list-style: none; padding: 0;">
        <li>✔️ Build high-converting offers with AI</li>
        <li>✔️ Customize prompts for social, email & video</li>
        <li>✔️ Launch fast with pre-trained modes</li>
        <li>✔️ Automate your repetitive marketing tasks</li>
      </ul>
    </div>

    <!-- Testimonials -->
    <div class="section">
      <h2 class="center">🗣️ What People Are Saying</h2>
      <div class="testimonial">"Launched a campaign in 30 minutes thanks to BrandBuilder mode!" – Marketing Consultant</div>
      <div class="testimonial">"Prompts are gold. Worth every dollar." – Small Business Owner</div>
      <div class="testimonial">"Feels like an AI co-founder." – Digital Creator</div>
    </div>

    <!-- Footer -->
    <footer>
      © 2025 Scanista QR | Powered by AI & Strategy
    </footer>
  </div>

</body>
</html>
