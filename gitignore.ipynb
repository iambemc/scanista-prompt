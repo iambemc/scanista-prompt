{
 "cells": [
  {
   "cell_type": "code",
   "execution_count": null,
   "id": "6ad5ff47",
   "metadata": {},
   "outputs": [],
   "source": [
    "# Ignore system files\n",
    ".DS_Store\n",
    "Thumbs.db\n",
    "\n",
    "# Ignore node_modules if ever added\n",
    "node_modules/\n",
    ".env\n",
    "*.log\n",
    "\n",
    "# Ignore deploy tools\n",
    "dist/\n",
    "build/\n"
   ]
  }
 ],
 "metadata": {
  "language_info": {
   "name": "python"
  }
 },
 "nbformat": 4,
 "nbformat_minor": 5
}
